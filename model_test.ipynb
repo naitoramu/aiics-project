{
 "cells": [
  {
   "cell_type": "code",
   "execution_count": 135,
   "metadata": {},
   "outputs": [],
   "source": [
    "import numpy as np\n",
    "import pickle\n",
    "from sklearn.metrics import classification_report, accuracy_score\n",
    "from sklearn.model_selection import cross_val_score"
   ]
  },
  {
   "cell_type": "code",
   "execution_count": 136,
   "metadata": {},
   "outputs": [],
   "source": [
    "model_path = '/Users/januszchmielak/Documents/AI_CYBERSEC/aiics-project/content/random_forest_model.pkl'\n",
    "validation_data_path = '/Users/januszchmielak/Documents/AI_CYBERSEC/generated_data/processed_data.pkl'"
   ]
  },
  {
   "cell_type": "code",
   "execution_count": 137,
   "metadata": {},
   "outputs": [],
   "source": [
    "def load_data(filename):\n",
    "    with open(filename, 'rb') as f:\n",
    "        x, y = pickle.load(f)\n",
    "    rows_count = x[0].shape[0]\n",
    "    x = [bucket.to_numpy().flatten() for bucket in x if bucket.shape[0] == rows_count]\n",
    "    y = np.array(y[:len(x)])\n",
    "    return np.array(x), y"
   ]
  },
  {
   "cell_type": "code",
   "execution_count": 138,
   "metadata": {},
   "outputs": [],
   "source": [
    "def validate_model(model, x_test, y_test):\n",
    "    y_pred = model.predict(x_test)\n",
    "    print(\"Classification Report:\")\n",
    "    print(classification_report(y_test, y_pred))\n",
    "    print(\"Accuracy:\", accuracy_score(y_test, y_pred))"
   ]
  },
  {
   "cell_type": "code",
   "execution_count": 139,
   "metadata": {},
   "outputs": [],
   "source": [
    "def validate_model_with_cross_validation(model, x, y, cv_folds):\n",
    "    scores = cross_val_score(model, x, y, cv=cv_folds, scoring='accuracy')\n",
    "    print(\"Cross-validation results:\")\n",
    "    print(scores)\n",
    "    print(\"Average accuracy:\", np.mean(scores))\n",
    "    print(\"Standard deviation:\", np.std(scores))"
   ]
  },
  {
   "cell_type": "code",
   "execution_count": 140,
   "metadata": {},
   "outputs": [],
   "source": [
    "# Ścieżka do danych walidacyjnych\n",
    "x_val, y_val = load_data(validation_data_path)"
   ]
  },
  {
   "cell_type": "code",
   "execution_count": 141,
   "metadata": {},
   "outputs": [],
   "source": [
    "# Wczytywanie wytrenowanego modelu\n",
    "with open(model_path, 'rb') as file:\n",
    "    loaded_model = pickle.load(file)"
   ]
  },
  {
   "cell_type": "code",
   "execution_count": 142,
   "metadata": {},
   "outputs": [
    {
     "name": "stdout",
     "output_type": "stream",
     "text": [
      "Performing regular validation...\n",
      "Classification Report:\n",
      "              precision    recall  f1-score   support\n",
      "\n",
      "           0       0.50      1.00      0.67       312\n",
      "           1       0.00      0.00      0.00       312\n",
      "           2       1.00      1.00      1.00       312\n",
      "\n",
      "    accuracy                           0.67       936\n",
      "   macro avg       0.50      0.67      0.56       936\n",
      "weighted avg       0.50      0.67      0.56       936\n",
      "\n",
      "Accuracy: 0.6666666666666666\n"
     ]
    },
    {
     "name": "stderr",
     "output_type": "stream",
     "text": [
      "/opt/homebrew/lib/python3.10/site-packages/sklearn/metrics/_classification.py:1517: UndefinedMetricWarning: Precision is ill-defined and being set to 0.0 in labels with no predicted samples. Use `zero_division` parameter to control this behavior.\n",
      "  _warn_prf(average, modifier, f\"{metric.capitalize()} is\", len(result))\n",
      "/opt/homebrew/lib/python3.10/site-packages/sklearn/metrics/_classification.py:1517: UndefinedMetricWarning: Precision is ill-defined and being set to 0.0 in labels with no predicted samples. Use `zero_division` parameter to control this behavior.\n",
      "  _warn_prf(average, modifier, f\"{metric.capitalize()} is\", len(result))\n",
      "/opt/homebrew/lib/python3.10/site-packages/sklearn/metrics/_classification.py:1517: UndefinedMetricWarning: Precision is ill-defined and being set to 0.0 in labels with no predicted samples. Use `zero_division` parameter to control this behavior.\n",
      "  _warn_prf(average, modifier, f\"{metric.capitalize()} is\", len(result))\n"
     ]
    }
   ],
   "source": [
    "print(\"Performing regular validation...\")\n",
    "validate_model(loaded_model, x_val, y_val)"
   ]
  },
  {
   "cell_type": "code",
   "execution_count": 134,
   "metadata": {},
   "outputs": [
    {
     "name": "stdout",
     "output_type": "stream",
     "text": [
      "Performing cross-validation...\n",
      "Cross-validation results:\n",
      "[1. 1. 1. 1. 1.]\n",
      "Average accuracy: 1.0\n",
      "Standard deviation: 0.0\n"
     ]
    }
   ],
   "source": [
    "print(\"Performing cross-validation...\")\n",
    "validate_model_with_cross_validation(loaded_model, x_val, y_val, cv_folds=5)"
   ]
  }
 ],
 "metadata": {
  "kernelspec": {
   "display_name": "Python 3",
   "language": "python",
   "name": "python3"
  },
  "language_info": {
   "codemirror_mode": {
    "name": "ipython",
    "version": 3
   },
   "file_extension": ".py",
   "mimetype": "text/x-python",
   "name": "python",
   "nbconvert_exporter": "python",
   "pygments_lexer": "ipython3",
   "version": "3.10.14"
  }
 },
 "nbformat": 4,
 "nbformat_minor": 2
}
