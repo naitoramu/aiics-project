{
 "cells": [
  {
   "cell_type": "code",
   "id": "a4bb01a32e5f22a8",
   "metadata": {
    "id": "a4bb01a32e5f22a8",
    "ExecuteTime": {
     "end_time": "2024-06-07T17:28:53.235880Z",
     "start_time": "2024-06-07T17:28:52.982623Z"
    }
   },
   "source": [
    "import numpy as np\n",
    "import pickle\n",
    "\n",
    "from sklearn.naive_bayes import GaussianNB\n",
    "from sklearn.metrics import classification_report\n",
    "from sklearn.model_selection import train_test_split"
   ],
   "outputs": [],
   "execution_count": 1
  },
  {
   "cell_type": "code",
   "id": "e919bdfc660ee565",
   "metadata": {
    "id": "e919bdfc660ee565",
    "ExecuteTime": {
     "end_time": "2024-06-07T17:28:53.238744Z",
     "start_time": "2024-06-07T17:28:53.236509Z"
    }
   },
   "source": [
    "def load_data(filename):\n",
    "    with open(filename, 'rb') as f:\n",
    "        x, y = pickle.load(f)\n",
    "\n",
    "    rows_count = x[0].shape[0]\n",
    "    x = [bucket for bucket in x if bucket.shape[0] == rows_count]\n",
    "\n",
    "    x = np.array([bucket.to_numpy().flatten() for bucket in x])\n",
    "    y = np.array(y[:len(x)])\n",
    "\n",
    "    return x, y"
   ],
   "outputs": [],
   "execution_count": 2
  },
  {
   "cell_type": "code",
   "id": "bcc3394fcf57920b",
   "metadata": {
    "colab": {
     "base_uri": "https://localhost:8080/"
    },
    "id": "bcc3394fcf57920b",
    "outputId": "3da92695-1cfe-487d-f8b8-7ba0aa372aac",
    "ExecuteTime": {
     "end_time": "2024-06-07T17:28:55.235703Z",
     "start_time": "2024-06-07T17:28:53.239264Z"
    }
   },
   "source": [
    "x_data_np, y_data_np = load_data('data/processed_data.pkl')\n",
    "\n",
    "# Split data into training and test sets\n",
    "x_train, x_test, y_train, y_test = train_test_split(x_data_np, y_data_np, test_size=0.2, random_state=42)\n",
    "\n",
    "# Train a classifier (example with Gaussian Naive Bayes)\n",
    "clf = GaussianNB()\n",
    "clf.fit(x_train, y_train)\n",
    "\n",
    "# Predict and evaluate\n",
    "y_pred = clf.predict(x_test)\n",
    "print(classification_report(y_test, y_pred))"
   ],
   "outputs": [
    {
     "name": "stdout",
     "output_type": "stream",
     "text": [
      "              precision    recall  f1-score   support\n",
      "\n",
      "           0       1.00      1.00      1.00      3219\n",
      "           1       1.00      1.00      1.00       136\n",
      "           2       1.00      1.00      1.00      1886\n",
      "\n",
      "    accuracy                           1.00      5241\n",
      "   macro avg       1.00      1.00      1.00      5241\n",
      "weighted avg       1.00      1.00      1.00      5241\n",
      "\n"
     ]
    }
   ],
   "execution_count": 3
  },
  {
   "cell_type": "code",
   "id": "bae003cd414fda9c",
   "metadata": {
    "colab": {
     "base_uri": "https://localhost:8080/"
    },
    "id": "bae003cd414fda9c",
    "outputId": "6aabb74b-fba6-4e62-c315-2ac9bffd3dad",
    "ExecuteTime": {
     "end_time": "2024-06-07T17:28:55.295019Z",
     "start_time": "2024-06-07T17:28:55.236524Z"
    }
   },
   "source": [
    "x_gen, y_gen = load_data('generated_data/processed_data.pkl')\n",
    "\n",
    "y_pred = clf.predict(x_gen)\n",
    "print(classification_report(y_gen, y_pred))"
   ],
   "outputs": [
    {
     "name": "stdout",
     "output_type": "stream",
     "text": [
      "              precision    recall  f1-score   support\n",
      "\n",
      "           0       1.00      1.00      1.00       312\n",
      "           1       0.50      1.00      0.67       312\n",
      "           2       0.00      0.00      0.00       312\n",
      "\n",
      "    accuracy                           0.67       936\n",
      "   macro avg       0.50      0.67      0.56       936\n",
      "weighted avg       0.50      0.67      0.56       936\n",
      "\n"
     ]
    },
    {
     "name": "stderr",
     "output_type": "stream",
     "text": [
      "/home/kuba/miniconda3/envs/msiwc-project/lib/python3.11/site-packages/sklearn/metrics/_classification.py:1509: UndefinedMetricWarning: Precision is ill-defined and being set to 0.0 in labels with no predicted samples. Use `zero_division` parameter to control this behavior.\n",
      "  _warn_prf(average, modifier, f\"{metric.capitalize()} is\", len(result))\n",
      "/home/kuba/miniconda3/envs/msiwc-project/lib/python3.11/site-packages/sklearn/metrics/_classification.py:1509: UndefinedMetricWarning: Precision is ill-defined and being set to 0.0 in labels with no predicted samples. Use `zero_division` parameter to control this behavior.\n",
      "  _warn_prf(average, modifier, f\"{metric.capitalize()} is\", len(result))\n",
      "/home/kuba/miniconda3/envs/msiwc-project/lib/python3.11/site-packages/sklearn/metrics/_classification.py:1509: UndefinedMetricWarning: Precision is ill-defined and being set to 0.0 in labels with no predicted samples. Use `zero_division` parameter to control this behavior.\n",
      "  _warn_prf(average, modifier, f\"{metric.capitalize()} is\", len(result))\n"
     ]
    }
   ],
   "execution_count": 4
  }
 ],
 "metadata": {
  "colab": {
   "provenance": []
  },
  "kernelspec": {
   "display_name": "Python 3",
   "language": "python",
   "name": "python3"
  },
  "language_info": {
   "codemirror_mode": {
    "name": "ipython",
    "version": 3
   },
   "file_extension": ".py",
   "mimetype": "text/x-python",
   "name": "python",
   "nbconvert_exporter": "python",
   "pygments_lexer": "ipython3",
   "version": "3.11.9"
  }
 },
 "nbformat": 4,
 "nbformat_minor": 5
}
