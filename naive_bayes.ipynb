{
  "cells": [
    {
      "cell_type": "code",
      "source": [
        "from google.colab import drive\n",
        "drive.mount('/content/drive')"
      ],
      "metadata": {
        "colab": {
          "base_uri": "https://localhost:8080/"
        },
        "id": "K7Djz7GnBRU6",
        "outputId": "7f405650-a073-4abc-b2a6-a6c55d9abc51"
      },
      "id": "K7Djz7GnBRU6",
      "execution_count": 5,
      "outputs": [
        {
          "output_type": "stream",
          "name": "stdout",
          "text": [
            "Mounted at /content/drive\n"
          ]
        }
      ]
    },
    {
      "metadata": {
        "ExecuteTime": {
          "end_time": "2024-05-26T22:13:20.211836Z",
          "start_time": "2024-05-26T22:13:19.955307Z"
        },
        "id": "a4bb01a32e5f22a8"
      },
      "cell_type": "code",
      "source": [
        "import numpy as np\n",
        "import pickle\n",
        "\n",
        "from sklearn.naive_bayes import GaussianNB\n",
        "from sklearn.metrics import classification_report\n",
        "from sklearn.model_selection import train_test_split"
      ],
      "id": "a4bb01a32e5f22a8",
      "outputs": [],
      "execution_count": 2
    },
    {
      "metadata": {
        "ExecuteTime": {
          "end_time": "2024-05-26T22:13:20.214649Z",
          "start_time": "2024-05-26T22:13:20.212534Z"
        },
        "id": "e919bdfc660ee565"
      },
      "cell_type": "code",
      "source": [
        "def load_data(filename):\n",
        "    with open(filename, 'rb') as f:\n",
        "        x, y = pickle.load(f)\n",
        "\n",
        "    rows_count = x[0].shape[0]\n",
        "    x = [bucket for bucket in x if bucket.shape[0] == rows_count]\n",
        "\n",
        "    x = np.array([bucket.to_numpy().flatten() for bucket in x])\n",
        "    y = np.array(y[:len(x)])\n",
        "\n",
        "    return x, y"
      ],
      "id": "e919bdfc660ee565",
      "outputs": [],
      "execution_count": 3
    },
    {
      "metadata": {
        "ExecuteTime": {
          "end_time": "2024-05-26T22:13:23.224545Z",
          "start_time": "2024-05-26T22:13:20.215033Z"
        },
        "id": "bcc3394fcf57920b",
        "outputId": "3da92695-1cfe-487d-f8b8-7ba0aa372aac",
        "colab": {
          "base_uri": "https://localhost:8080/"
        }
      },
      "cell_type": "code",
      "source": [
        "x_data_np, y_data_np = load_data('drive/MyDrive/AI_in_CY/processed_data(2).pkl')\n",
        "\n",
        "# Split data into training and test sets\n",
        "x_train, x_test, y_train, y_test = train_test_split(x_data_np, y_data_np, test_size=0.2, random_state=42)\n",
        "\n",
        "# Train a classifier (example with Gaussian Naive Bayes)\n",
        "clf = GaussianNB()\n",
        "clf.fit(x_train, y_train)\n",
        "\n",
        "# Predict and evaluate\n",
        "y_pred = clf.predict(x_test)\n",
        "print(classification_report(y_test, y_pred))"
      ],
      "id": "bcc3394fcf57920b",
      "outputs": [
        {
          "output_type": "stream",
          "name": "stdout",
          "text": [
            "              precision    recall  f1-score   support\n",
            "\n",
            "           0       1.00      1.00      1.00      3263\n",
            "           1       1.00      1.00      1.00       156\n",
            "           2       1.00      1.00      1.00      3072\n",
            "\n",
            "    accuracy                           1.00      6491\n",
            "   macro avg       1.00      1.00      1.00      6491\n",
            "weighted avg       1.00      1.00      1.00      6491\n",
            "\n"
          ]
        }
      ],
      "execution_count": 13
    },
    {
      "metadata": {
        "ExecuteTime": {
          "end_time": "2024-05-26T22:13:23.283579Z",
          "start_time": "2024-05-26T22:13:23.227340Z"
        },
        "id": "bae003cd414fda9c",
        "outputId": "6aabb74b-fba6-4e62-c315-2ac9bffd3dad",
        "colab": {
          "base_uri": "https://localhost:8080/"
        }
      },
      "cell_type": "code",
      "source": [
        "x_gen, y_gen = load_data('drive/MyDrive/AI_in_CY/processed_data_generated.pkl')\n",
        "\n",
        "y_pred = clf.predict(x_gen)\n",
        "print(classification_report(y_gen, y_pred))"
      ],
      "id": "bae003cd414fda9c",
      "outputs": [
        {
          "output_type": "stream",
          "name": "stdout",
          "text": [
            "              precision    recall  f1-score   support\n",
            "\n",
            "           0       1.00      1.00      1.00       312\n",
            "           1       1.00      1.00      1.00       312\n",
            "           2       1.00      1.00      1.00       312\n",
            "\n",
            "    accuracy                           1.00       936\n",
            "   macro avg       1.00      1.00      1.00       936\n",
            "weighted avg       1.00      1.00      1.00       936\n",
            "\n"
          ]
        }
      ],
      "execution_count": 15
    }
  ],
  "metadata": {
    "kernelspec": {
      "display_name": "Python 3",
      "language": "python",
      "name": "python3"
    },
    "language_info": {
      "codemirror_mode": {
        "name": "ipython",
        "version": 2
      },
      "file_extension": ".py",
      "mimetype": "text/x-python",
      "name": "python",
      "nbconvert_exporter": "python",
      "pygments_lexer": "ipython2",
      "version": "2.7.6"
    },
    "colab": {
      "provenance": []
    }
  },
  "nbformat": 4,
  "nbformat_minor": 5
}