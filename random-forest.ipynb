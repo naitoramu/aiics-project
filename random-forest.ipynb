{
 "cells": [
  {
   "cell_type": "code",
   "id": "a4bb01a32e5f22a8",
   "metadata": {
    "ExecuteTime": {
     "end_time": "2024-06-07T17:28:02.080316Z",
     "start_time": "2024-06-07T17:28:01.789180Z"
    }
   },
   "source": [
    "import numpy as np\n",
    "import pickle\n",
    "\n",
    "from sklearn.ensemble import RandomForestClassifier\n",
    "from sklearn.metrics import classification_report\n",
    "from sklearn.model_selection import train_test_split"
   ],
   "outputs": [],
   "execution_count": 1
  },
  {
   "cell_type": "code",
   "id": "e919bdfc660ee565",
   "metadata": {
    "ExecuteTime": {
     "end_time": "2024-06-07T17:28:02.084355Z",
     "start_time": "2024-06-07T17:28:02.081435Z"
    }
   },
   "source": [
    "def load_data(filename):\n",
    "    with open(filename, 'rb') as f:\n",
    "        x, y = pickle.load(f)\n",
    "\n",
    "    rows_count = x[0].shape[0]\n",
    "    x = [bucket for bucket in x if bucket.shape[0] == rows_count]\n",
    "\n",
    "    x = np.array([bucket.to_numpy().flatten() for bucket in x])\n",
    "    y = np.array(y[:len(x)])\n",
    "    \n",
    "    return x, y\n"
   ],
   "outputs": [],
   "execution_count": 2
  },
  {
   "cell_type": "code",
   "id": "bcc3394fcf57920b",
   "metadata": {
    "ExecuteTime": {
     "end_time": "2024-06-07T17:28:05.772092Z",
     "start_time": "2024-06-07T17:28:02.084961Z"
    }
   },
   "source": [
    "x_data_np, y_data_np = load_data('data/processed_data.pkl')\n",
    "\n",
    "# Split data into training and test sets\n",
    "x_train, x_test, y_train, y_test = train_test_split(x_data_np, y_data_np, test_size=0.2, random_state=42)\n",
    "\n",
    "# Train a classifier (example with RandomForest)\n",
    "clf = RandomForestClassifier()\n",
    "clf.fit(x_train, y_train)\n",
    "\n",
    "# Predict and evaluate\n",
    "y_pred = clf.predict(x_test)\n",
    "print(classification_report(y_test, y_pred))"
   ],
   "outputs": [
    {
     "name": "stdout",
     "output_type": "stream",
     "text": [
      "              precision    recall  f1-score   support\n",
      "\n",
      "           0       1.00      1.00      1.00      3219\n",
      "           1       1.00      1.00      1.00       136\n",
      "           2       1.00      1.00      1.00      1886\n",
      "\n",
      "    accuracy                           1.00      5241\n",
      "   macro avg       1.00      1.00      1.00      5241\n",
      "weighted avg       1.00      1.00      1.00      5241\n",
      "\n"
     ]
    }
   ],
   "execution_count": 3
  },
  {
   "cell_type": "code",
   "id": "bae003cd414fda9c",
   "metadata": {
    "ExecuteTime": {
     "end_time": "2024-06-07T17:28:05.828807Z",
     "start_time": "2024-06-07T17:28:05.772989Z"
    }
   },
   "source": [
    "x_gen, y_gen = load_data('generated_data/processed_data.pkl')\n",
    "\n",
    "y_pred = clf.predict(x_gen)\n",
    "print(classification_report(y_gen, y_pred))\n"
   ],
   "outputs": [
    {
     "name": "stdout",
     "output_type": "stream",
     "text": [
      "              precision    recall  f1-score   support\n",
      "\n",
      "           0       0.00      0.00      0.00       312\n",
      "           1       0.00      0.00      0.00       312\n",
      "           2       0.50      1.00      0.67       312\n",
      "\n",
      "    accuracy                           0.33       936\n",
      "   macro avg       0.17      0.33      0.22       936\n",
      "weighted avg       0.17      0.33      0.22       936\n",
      "\n"
     ]
    },
    {
     "name": "stderr",
     "output_type": "stream",
     "text": [
      "/home/kuba/miniconda3/envs/msiwc-project/lib/python3.11/site-packages/sklearn/metrics/_classification.py:1509: UndefinedMetricWarning: Precision is ill-defined and being set to 0.0 in labels with no predicted samples. Use `zero_division` parameter to control this behavior.\n",
      "  _warn_prf(average, modifier, f\"{metric.capitalize()} is\", len(result))\n",
      "/home/kuba/miniconda3/envs/msiwc-project/lib/python3.11/site-packages/sklearn/metrics/_classification.py:1509: UndefinedMetricWarning: Precision is ill-defined and being set to 0.0 in labels with no predicted samples. Use `zero_division` parameter to control this behavior.\n",
      "  _warn_prf(average, modifier, f\"{metric.capitalize()} is\", len(result))\n",
      "/home/kuba/miniconda3/envs/msiwc-project/lib/python3.11/site-packages/sklearn/metrics/_classification.py:1509: UndefinedMetricWarning: Precision is ill-defined and being set to 0.0 in labels with no predicted samples. Use `zero_division` parameter to control this behavior.\n",
      "  _warn_prf(average, modifier, f\"{metric.capitalize()} is\", len(result))\n"
     ]
    }
   ],
   "execution_count": 4
  },
  {
   "cell_type": "code",
   "id": "123b9914",
   "metadata": {
    "ExecuteTime": {
     "end_time": "2024-06-07T17:28:06.005118Z",
     "start_time": "2024-06-07T17:28:05.829530Z"
    }
   },
   "source": [
    "def save_model(model, filename):\n",
    "    with open(filename, 'wb') as file:\n",
    "        pickle.dump(model, file)\n",
    "\n",
    "\n",
    "save_model(clf, './content/random_forest_model.pkl')"
   ],
   "outputs": [
    {
     "ename": "FileNotFoundError",
     "evalue": "[Errno 2] No such file or directory: './content/random_forest_model.pkl'",
     "output_type": "error",
     "traceback": [
      "\u001B[0;31m---------------------------------------------------------------------------\u001B[0m",
      "\u001B[0;31mFileNotFoundError\u001B[0m                         Traceback (most recent call last)",
      "Cell \u001B[0;32mIn[5], line 6\u001B[0m\n\u001B[1;32m      2\u001B[0m     \u001B[38;5;28;01mwith\u001B[39;00m \u001B[38;5;28mopen\u001B[39m(filename, \u001B[38;5;124m'\u001B[39m\u001B[38;5;124mwb\u001B[39m\u001B[38;5;124m'\u001B[39m) \u001B[38;5;28;01mas\u001B[39;00m file:\n\u001B[1;32m      3\u001B[0m         pickle\u001B[38;5;241m.\u001B[39mdump(model, file)\n\u001B[0;32m----> 6\u001B[0m save_model(clf, \u001B[38;5;124m'\u001B[39m\u001B[38;5;124m./content/random_forest_model.pkl\u001B[39m\u001B[38;5;124m'\u001B[39m)\n",
      "Cell \u001B[0;32mIn[5], line 2\u001B[0m, in \u001B[0;36msave_model\u001B[0;34m(model, filename)\u001B[0m\n\u001B[1;32m      1\u001B[0m \u001B[38;5;28;01mdef\u001B[39;00m \u001B[38;5;21msave_model\u001B[39m(model, filename):\n\u001B[0;32m----> 2\u001B[0m     \u001B[38;5;28;01mwith\u001B[39;00m \u001B[38;5;28mopen\u001B[39m(filename, \u001B[38;5;124m'\u001B[39m\u001B[38;5;124mwb\u001B[39m\u001B[38;5;124m'\u001B[39m) \u001B[38;5;28;01mas\u001B[39;00m file:\n\u001B[1;32m      3\u001B[0m         pickle\u001B[38;5;241m.\u001B[39mdump(model, file)\n",
      "File \u001B[0;32m~/miniconda3/envs/msiwc-project/lib/python3.11/site-packages/IPython/core/interactiveshell.py:310\u001B[0m, in \u001B[0;36m_modified_open\u001B[0;34m(file, *args, **kwargs)\u001B[0m\n\u001B[1;32m    303\u001B[0m \u001B[38;5;28;01mif\u001B[39;00m file \u001B[38;5;129;01min\u001B[39;00m {\u001B[38;5;241m0\u001B[39m, \u001B[38;5;241m1\u001B[39m, \u001B[38;5;241m2\u001B[39m}:\n\u001B[1;32m    304\u001B[0m     \u001B[38;5;28;01mraise\u001B[39;00m \u001B[38;5;167;01mValueError\u001B[39;00m(\n\u001B[1;32m    305\u001B[0m         \u001B[38;5;124mf\u001B[39m\u001B[38;5;124m\"\u001B[39m\u001B[38;5;124mIPython won\u001B[39m\u001B[38;5;124m'\u001B[39m\u001B[38;5;124mt let you open fd=\u001B[39m\u001B[38;5;132;01m{\u001B[39;00mfile\u001B[38;5;132;01m}\u001B[39;00m\u001B[38;5;124m by default \u001B[39m\u001B[38;5;124m\"\u001B[39m\n\u001B[1;32m    306\u001B[0m         \u001B[38;5;124m\"\u001B[39m\u001B[38;5;124mas it is likely to crash IPython. If you know what you are doing, \u001B[39m\u001B[38;5;124m\"\u001B[39m\n\u001B[1;32m    307\u001B[0m         \u001B[38;5;124m\"\u001B[39m\u001B[38;5;124myou can use builtins\u001B[39m\u001B[38;5;124m'\u001B[39m\u001B[38;5;124m open.\u001B[39m\u001B[38;5;124m\"\u001B[39m\n\u001B[1;32m    308\u001B[0m     )\n\u001B[0;32m--> 310\u001B[0m \u001B[38;5;28;01mreturn\u001B[39;00m io_open(file, \u001B[38;5;241m*\u001B[39margs, \u001B[38;5;241m*\u001B[39m\u001B[38;5;241m*\u001B[39mkwargs)\n",
      "\u001B[0;31mFileNotFoundError\u001B[0m: [Errno 2] No such file or directory: './content/random_forest_model.pkl'"
     ]
    }
   ],
   "execution_count": 5
  }
 ],
 "metadata": {
  "kernelspec": {
   "display_name": "Python 3",
   "language": "python",
   "name": "python3"
  },
  "language_info": {
   "codemirror_mode": {
    "name": "ipython",
    "version": 3
   },
   "file_extension": ".py",
   "mimetype": "text/x-python",
   "name": "python",
   "nbconvert_exporter": "python",
   "pygments_lexer": "ipython3",
   "version": "3.10.14"
  }
 },
 "nbformat": 4,
 "nbformat_minor": 5
}
