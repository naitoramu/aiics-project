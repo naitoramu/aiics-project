{
 "cells": [
  {
   "metadata": {
    "ExecuteTime": {
     "end_time": "2024-05-21T21:47:13.223928Z",
     "start_time": "2024-05-21T21:47:12.926509Z"
    }
   },
   "cell_type": "code",
   "source": [
    "import numpy as np\n",
    "import pickle\n",
    "\n",
    "from sklearn.ensemble import RandomForestClassifier\n",
    "from sklearn.metrics import classification_report\n",
    "from sklearn.model_selection import train_test_split"
   ],
   "id": "a4bb01a32e5f22a8",
   "outputs": [],
   "execution_count": 1
  },
  {
   "metadata": {
    "ExecuteTime": {
     "end_time": "2024-05-21T21:47:13.227252Z",
     "start_time": "2024-05-21T21:47:13.224588Z"
    }
   },
   "cell_type": "code",
   "source": [
    "def load_data(filename):\n",
    "    with open(filename, 'rb') as f:\n",
    "        x, y = pickle.load(f)\n",
    "\n",
    "    rows_count = x[0].shape[0]\n",
    "    x = [bucket for bucket in x if bucket.shape[0] == rows_count]\n",
    "\n",
    "    x = np.array([bucket.to_numpy().flatten() for bucket in x])\n",
    "    y = np.array(y[:len(x)])\n",
    "    \n",
    "    return x, y\n"
   ],
   "id": "e919bdfc660ee565",
   "outputs": [],
   "execution_count": 2
  },
  {
   "metadata": {
    "ExecuteTime": {
     "end_time": "2024-05-21T21:47:16.222558Z",
     "start_time": "2024-05-21T21:47:13.227955Z"
    }
   },
   "cell_type": "code",
   "source": [
    "x_data_np, y_data_np = load_data('preprocessed_data/processed_data.pkl')\n",
    "\n",
    "# Split data into training and test sets\n",
    "x_train, x_test, y_train, y_test = train_test_split(x_data_np, y_data_np, test_size=0.2, random_state=42)\n",
    "\n",
    "# Train a classifier (example with RandomForest)\n",
    "clf = RandomForestClassifier()\n",
    "clf.fit(x_train, y_train)\n",
    "\n",
    "# Predict and evaluate\n",
    "y_pred = clf.predict(x_test)\n",
    "print(classification_report(y_test, y_pred))"
   ],
   "id": "bcc3394fcf57920b",
   "outputs": [
    {
     "name": "stdout",
     "output_type": "stream",
     "text": [
      "              precision    recall  f1-score   support\n",
      "\n",
      "           0       1.00      1.00      1.00      3263\n",
      "           1       1.00      0.99      1.00       157\n",
      "           2       1.00      1.00      1.00      3071\n",
      "\n",
      "    accuracy                           1.00      6491\n",
      "   macro avg       1.00      1.00      1.00      6491\n",
      "weighted avg       1.00      1.00      1.00      6491\n",
      "\n"
     ]
    }
   ],
   "execution_count": 3
  },
  {
   "metadata": {
    "ExecuteTime": {
     "end_time": "2024-05-21T21:47:16.241546Z",
     "start_time": "2024-05-21T21:47:16.223136Z"
    }
   },
   "cell_type": "code",
   "source": [
    "x_val, y_val = load_data('validation_data/processed_data.pkl')\n",
    "\n",
    "y_pred = clf.predict(x_val)\n",
    "print(classification_report(y_val, y_pred))"
   ],
   "id": "2d86aa85560f383a",
   "outputs": [
    {
     "name": "stdout",
     "output_type": "stream",
     "text": [
      "              precision    recall  f1-score   support\n",
      "\n",
      "           0       1.00      0.99      1.00       157\n",
      "           1       0.99      0.99      0.99       157\n",
      "           2       0.99      1.00      0.99       154\n",
      "\n",
      "    accuracy                           0.99       468\n",
      "   macro avg       0.99      0.99      0.99       468\n",
      "weighted avg       0.99      0.99      0.99       468\n",
      "\n"
     ]
    }
   ],
   "execution_count": 4
  }
 ],
 "metadata": {
  "kernelspec": {
   "display_name": "Python 3",
   "language": "python",
   "name": "python3"
  },
  "language_info": {
   "codemirror_mode": {
    "name": "ipython",
    "version": 2
   },
   "file_extension": ".py",
   "mimetype": "text/x-python",
   "name": "python",
   "nbconvert_exporter": "python",
   "pygments_lexer": "ipython2",
   "version": "2.7.6"
  }
 },
 "nbformat": 4,
 "nbformat_minor": 5
}
