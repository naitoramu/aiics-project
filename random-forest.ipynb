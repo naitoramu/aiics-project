{
 "cells": [
  {
   "cell_type": "code",
   "execution_count": 6,
   "id": "a4bb01a32e5f22a8",
   "metadata": {
    "ExecuteTime": {
     "end_time": "2024-05-26T22:13:20.211836Z",
     "start_time": "2024-05-26T22:13:19.955307Z"
    }
   },
   "outputs": [],
   "source": [
    "import numpy as np\n",
    "import pickle\n",
    "\n",
    "from sklearn.ensemble import RandomForestClassifier\n",
    "from sklearn.metrics import classification_report\n",
    "from sklearn.model_selection import train_test_split"
   ]
  },
  {
   "cell_type": "code",
   "execution_count": 7,
   "id": "e919bdfc660ee565",
   "metadata": {
    "ExecuteTime": {
     "end_time": "2024-05-26T22:13:20.214649Z",
     "start_time": "2024-05-26T22:13:20.212534Z"
    }
   },
   "outputs": [],
   "source": [
    "def load_data(filename):\n",
    "    with open(filename, 'rb') as f:\n",
    "        x, y = pickle.load(f)\n",
    "\n",
    "    rows_count = x[0].shape[0]\n",
    "    x = [bucket for bucket in x if bucket.shape[0] == rows_count]\n",
    "\n",
    "    x = np.array([bucket.to_numpy().flatten() for bucket in x])\n",
    "    y = np.array(y[:len(x)])\n",
    "    \n",
    "    return x, y\n"
   ]
  },
  {
   "cell_type": "code",
   "execution_count": 8,
   "id": "bcc3394fcf57920b",
   "metadata": {
    "ExecuteTime": {
     "end_time": "2024-05-26T22:13:23.224545Z",
     "start_time": "2024-05-26T22:13:20.215033Z"
    }
   },
   "outputs": [
    {
     "name": "stdout",
     "output_type": "stream",
     "text": [
      "              precision    recall  f1-score   support\n",
      "\n",
      "           0       1.00      1.00      1.00      3263\n",
      "           1       1.00      1.00      1.00       156\n",
      "           2       1.00      1.00      1.00      3072\n",
      "\n",
      "    accuracy                           1.00      6491\n",
      "   macro avg       1.00      1.00      1.00      6491\n",
      "weighted avg       1.00      1.00      1.00      6491\n",
      "\n"
     ]
    }
   ],
   "source": [
    "x_data_np, y_data_np = load_data('data/processed_data.pkl')\n",
    "\n",
    "# Split data into training and test sets\n",
    "x_train, x_test, y_train, y_test = train_test_split(x_data_np, y_data_np, test_size=0.2, random_state=42)\n",
    "\n",
    "# Train a classifier (example with RandomForest)\n",
    "clf = RandomForestClassifier()\n",
    "clf.fit(x_train, y_train)\n",
    "\n",
    "# Predict and evaluate\n",
    "y_pred = clf.predict(x_test)\n",
    "print(classification_report(y_test, y_pred))"
   ]
  },
  {
   "cell_type": "code",
   "execution_count": 9,
   "id": "2d86aa85560f383a",
   "metadata": {
    "ExecuteTime": {
     "end_time": "2024-05-26T22:13:23.226966Z",
     "start_time": "2024-05-26T22:13:23.225486Z"
    }
   },
   "outputs": [],
   "source": [
    "# x_val, y_val = load_data('validation_data/processed_data.pkl')\n",
    "# \n",
    "# y_pred = clf.predict(x_val)\n",
    "# print(classification_report(y_val, y_pred))"
   ]
  },
  {
   "cell_type": "code",
   "execution_count": 10,
   "id": "bae003cd414fda9c",
   "metadata": {
    "ExecuteTime": {
     "end_time": "2024-05-26T22:13:23.283579Z",
     "start_time": "2024-05-26T22:13:23.227340Z"
    }
   },
   "outputs": [
    {
     "name": "stdout",
     "output_type": "stream",
     "text": [
      "              precision    recall  f1-score   support\n",
      "\n",
      "           0       0.50      1.00      0.67       312\n",
      "           1       0.00      0.00      0.00       312\n",
      "           2       1.00      1.00      1.00       312\n",
      "\n",
      "    accuracy                           0.67       936\n",
      "   macro avg       0.50      0.67      0.56       936\n",
      "weighted avg       0.50      0.67      0.56       936\n",
      "\n"
     ]
    },
    {
     "name": "stderr",
     "output_type": "stream",
     "text": [
      "/home/kuba/miniconda3/envs/aiics/lib/python3.11/site-packages/sklearn/metrics/_classification.py:1517: UndefinedMetricWarning: Precision is ill-defined and being set to 0.0 in labels with no predicted samples. Use `zero_division` parameter to control this behavior.\n",
      "  _warn_prf(average, modifier, f\"{metric.capitalize()} is\", len(result))\n",
      "/home/kuba/miniconda3/envs/aiics/lib/python3.11/site-packages/sklearn/metrics/_classification.py:1517: UndefinedMetricWarning: Precision is ill-defined and being set to 0.0 in labels with no predicted samples. Use `zero_division` parameter to control this behavior.\n",
      "  _warn_prf(average, modifier, f\"{metric.capitalize()} is\", len(result))\n",
      "/home/kuba/miniconda3/envs/aiics/lib/python3.11/site-packages/sklearn/metrics/_classification.py:1517: UndefinedMetricWarning: Precision is ill-defined and being set to 0.0 in labels with no predicted samples. Use `zero_division` parameter to control this behavior.\n",
      "  _warn_prf(average, modifier, f\"{metric.capitalize()} is\", len(result))\n"
     ]
    }
   ],
   "source": [
    "x_gen, y_gen = load_data('generated_data/processed_data.pkl')\n",
    "\n",
    "y_pred = clf.predict(x_gen)\n",
    "print(classification_report(y_gen, y_pred))\n"
   ]
  }
 ],
 "metadata": {
  "kernelspec": {
   "display_name": "Python 3",
   "language": "python",
   "name": "python3"
  },
  "language_info": {
   "codemirror_mode": {
    "name": "ipython",
    "version": 3
   },
   "file_extension": ".py",
   "mimetype": "text/x-python",
   "name": "python",
   "nbconvert_exporter": "python",
   "pygments_lexer": "ipython3",
   "version": "3.11.9"
  }
 },
 "nbformat": 4,
 "nbformat_minor": 5
}
